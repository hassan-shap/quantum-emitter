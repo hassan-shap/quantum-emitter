{
 "cells": [
  {
   "cell_type": "code",
   "execution_count": 2,
   "id": "135d3e05-aab4-4671-810a-82699e66cb49",
   "metadata": {},
   "outputs": [],
   "source": [
    "import numpy as np\n",
    "import matplotlib.pyplot as plt\n",
    "import itertools\n",
    "from pymatching import Matching\n",
    "import time"
   ]
  },
  {
   "cell_type": "code",
   "execution_count": 15,
   "id": "654c5f5d-fc74-49d1-90d5-bac576598783",
   "metadata": {},
   "outputs": [
    {
     "name": "stdout",
     "output_type": "stream",
     "text": [
      "L=  8\n",
      "Finished in 13 secs\n",
      "Done!\n"
     ]
    }
   ],
   "source": [
    "l = 2 # number of sublattice points (2 for toric code) or primal/dual\n",
    "Nrep = 1000 # number of iterations\n",
    "L_list = [8]\n",
    "p1_list = np.linspace(0.003,1,20)\n",
    "fail_prob_z = np.zeros((len(L_list),len(p1_list)))\n",
    "\n",
    "for i_L, r in enumerate(L_list):\n",
    "\n",
    "    tic = time.time()\n",
    "    print(\"L= \", r)\n",
    "\n",
    "    r1 = r # dimension of square\n",
    "    r2 = r \n",
    "\n",
    "    # star stabilzers\n",
    "    Sx = np.zeros((r1*r2,l*r1*r2),dtype=int)\n",
    "    for i_y in range(r2):\n",
    "        for i_x in range(r1):\n",
    "            Sx[i_y*r1 + i_x, 2*(i_y*r1 + i_x)] = 1\n",
    "            Sx[i_y*r1 + i_x, 2*(i_y*r1 + i_x)+1] = 1\n",
    "            Sx[i_y*r1 + i_x, 2*(i_y*r1+(i_x-1)%r1 )] = 1\n",
    "            Sx[i_y*r1 + i_x, 2*(((i_y-1)%r1)*r1+i_x)+1] = 1\n",
    "\n",
    "    ## x ops\n",
    "    logicals = np.zeros((2,2*r1*r2))\n",
    "    logicals[0,1:2*r2+1:2] = np.ones(r2) \n",
    "    logicals[1,0:2*r1*r2:2*r2] = np.ones(r1) \n",
    "\n",
    "    m_orig = Matching(Sx)\n",
    "\n",
    "    for i_p, p1 in enumerate(p1_list):\n",
    "        for i_n in range(Nrep):\n",
    "            error_table = np.random.rand(l*r1*r2) < p1\n",
    "            zflip_inds = np.argwhere(error_table == True)[:,0]\n",
    "            no_zflip_inds = np.argwhere(error_table == False)[:,0]\n",
    "            error_tot = np.zeros(l*r1*r2,dtype=int)\n",
    "            error_tot[zflip_inds] = 1\n",
    "\n",
    "            # find syndrome\n",
    "            syndrome_x = np.dot(error_tot,Sx.T) % 2\n",
    "            # solve decoder\n",
    "            rec_x = m_orig.decode(syndrome_x)\n",
    "            np.dot( (rec_x + error_tot )%2 , logicals.T) % 2\n",
    "\n",
    "            assert np.sum(np.dot( (rec_x + error_tot )%2 , Sx.T) % 2) == 0\n",
    "\n",
    "            ###########\n",
    "            if np.sum(np.dot( (rec_x + error_tot )%2, logicals.T) %2)  > 0:\n",
    "                fail_prob_z[i_L,i_p] +=  1\n",
    "    toc = time.time()\n",
    "    print(\"Finished in %d secs\" % (toc-tic))\n",
    "\n",
    "\n",
    "print(\"Done!\")"
   ]
  },
  {
   "cell_type": "code",
   "execution_count": 16,
   "id": "f95f22ab-eb67-44a8-bba8-83d050ed8cc0",
   "metadata": {},
   "outputs": [
    {
     "data": {
      "image/png": "[encoded data removed]",
      "text/plain": [
       "<Figure size 432x288 with 1 Axes>"
      ]
     },
     "metadata": {
      "needs_background": "light"
     },
     "output_type": "display_data"
    }
   ],
   "source": [
    "for i_L, L in enumerate(L_list):\n",
    "    plt.plot(p1_list,fail_prob_z[i_L,:]/Nrep,\"o-\", label=\"L=%d\" % (L))\n",
    "    \n",
    "plt.plot(p1_list, 0.75+0*p1_list,\"k--\")\n",
    "plt.xlabel(\"bit flip error prob.\")\n",
    "plt.ylabel(\"logical error prob.\")\n",
    "# plt.yscale(\"log\")\n",
    "plt.legend()\n",
    "plt.show()"
   ]
  },
  {
   "cell_type": "code",
   "execution_count": null,
   "id": "a9ec00b3-a9e7-4be1-b527-106dc9a6241b",
   "metadata": {},
   "outputs": [],
   "source": []
  }
 ],
 "metadata": {
  "kernelspec": {
   "display_name": "Python 3 (ipykernel)",
   "language": "python",
   "name": "python3"
  },
  "language_info": {
   "codemirror_mode": {
    "name": "ipython",
    "version": 3
   },
   "file_extension": ".py",
   "mimetype": "text/x-python",
   "name": "python",
   "nbconvert_exporter": "python",
   "pygments_lexer": "ipython3",
   "version": "3.9.7"
  }
 },
 "nbformat": 4,
 "nbformat_minor": 5
}
