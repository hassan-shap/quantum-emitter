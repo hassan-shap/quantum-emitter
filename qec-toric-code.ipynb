{
 "cells": [
  {
   "cell_type": "code",
   "execution_count": null,
   "id": "a45dbb94",
   "metadata": {
    "scrolled": false
   },
   "outputs": [],
   "source": [
    "\"\"\"\n",
    "Indices:\n",
    "    * Indices are in the format (lattice, row, column).\n",
    "    * Qubit sites (i.e. edges) are indexed with lattice=0 and lattice=1 indicating horizontal and vertical edges,\n",
    "      respectively, on the primal lattice.\n",
    "    For example, site indices on a 3 x 3 toric lattice (primal lattice edges shown):\n",
    "    ::\n",
    "         --|----(0,0,0)----|----(0,0,1)----|----(0,0,2)--\n",
    "           |               |               |\n",
    "        (1,0,0)         (1,0,1)         (1,0,2)\n",
    "           |               |               |\n",
    "         --|----(0,1,0)----|----(0,1,1)----|----(0,1,2)--\n",
    "           |               |               |\n",
    "        (1,1,0)         (1,1,1)         (1,1,2)\n",
    "           |               |               |\n",
    "         --|----(0,2,0)----|----(0,2,1)----|----(0,2,2)--\n",
    "           |               |               |\n",
    "        (1,2,0)         (1,2,1)         (1,2,2)\n",
    "           |               |               |\n",
    "    * Stabilizer plaquettes are indexed by their northern edge with lattice=0 indicating plaquettes on the primal\n",
    "      lattice, and lattice=1 indicating plaquettes on the dual lattice.\n",
    "      (Equivalently, vertices are indicated by their northern edge with lattice=0 indicating vertices on the dual\n",
    "      lattice, and lattice=1 indicating vertices on the primal lattice.)\n",
    "    For example, plaquette indices on the primal 3 x 3 lattice (primal lattice edges shown):\n",
    "    ::\n",
    "         --|---------------|---------------|-------------\n",
    "           |               |               |\n",
    "           |    (0,0,0)    |    (0,0,1)    |    (0,0,2)\n",
    "           |               |               |\n",
    "         --|---------------|---------------|-------------\n",
    "           |               |               |\n",
    "           |    (0,1,0)    |    (0,1,1)    |    (0,1,2)\n",
    "           |               |               |\n",
    "         --|---------------|---------------|-------------\n",
    "           |               |               |\n",
    "           |    (0,2,0)    |    (0,2,1)    |    (0,2,2)\n",
    "           |               |               |\n",
    "    For example, plaquette indices on the dual 3 x 3 lattice (dual lattice edges shown):\n",
    "    ::\n",
    "        (1,2,0)    :    (1,2,1)    :    (1,2,2)    :\n",
    "                   :               :               :\n",
    "         - - - - - : - - - - - - - : - - - - - - - : - -\n",
    "                   :               :               :\n",
    "        (1,0,0)    :    (1,0,1)    :    (1,0,2)    :\n",
    "                   :               :               :\n",
    "         - - - - - : - - - - - - - : - - - - - - - : - -\n",
    "                   :               :               :\n",
    "        (1,1,0)    :    (1,1,1)    :    (1,1,2)    :\n",
    "                   :               :               :\n",
    "         - - - - - : - - - - - - - : - - - - - - - : - -\n",
    "                   :               :               :\n",
    "    \"\"\"\n",
    "    "
   ]
  },
  {
   "cell_type": "code",
   "execution_count": 2,
   "id": "83cafab5",
   "metadata": {},
   "outputs": [],
   "source": [
    "import numpy as np\n",
    "import matplotlib.pyplot as plt\n",
    "import itertools\n",
    "from qecsim.graphtools import blossom5\n"
   ]
  },
  {
   "cell_type": "code",
   "execution_count": 434,
   "id": "ccadb811",
   "metadata": {},
   "outputs": [],
   "source": [
    "def recovery(x1,y1,x2,y2):\n",
    "    if y2<y1:\n",
    "        x1, x2 = x2, x1\n",
    "        y1, y2 = y2, y1\n",
    "\n",
    "    dx = np.abs(x1-x2)\n",
    "    dy = np.abs(y1-y2)\n",
    "    dl = min(dx,c-dx)+min(dy,r-dy)\n",
    "    if dy > r-dy:\n",
    "        if dx > c-dx:\n",
    "            if x1<x2:\n",
    "                v1x = np.arange(x1,x2-c-1,-1) %c \n",
    "                v1y = [y1]*len(v1x)\n",
    "                p1x = np.arange(x1,x2-c,-1)%c\n",
    "                p1y = [y1+0.5]*len(p1x)\n",
    "                v2y = np.arange(y1-1,y2-r-1,-1) %r\n",
    "                p2y = np.arange(y1,y2-r,-1)%r\n",
    "            else:\n",
    "                v1x = np.arange(x2,x1-c-1,-1) %c \n",
    "                v1y = [y2]*len(v1x)\n",
    "                p1x = np.arange(x2,x1-c,-1)%c\n",
    "                p1y = [y2+0.5]*len(p1x)                \n",
    "                v2y = np.arange(y2+1,y1+r+1) %r\n",
    "                p2y = np.arange(y2+1,y1+r+1)%r\n",
    "            v2x = [max(x1,x2)]*len(v2y)\n",
    "            p2x = [max(x1,x2)+0.5]*len(p2y)\n",
    "        else:\n",
    "            if x1<x2:\n",
    "                v1x = np.arange(x1,x2+1)\n",
    "                v1y = [y1]*len(v1x)\n",
    "                p1x = np.arange(x1+1,x2+1)\n",
    "                p1y = [y1+0.5]*len(p1x)\n",
    "                v2y = np.arange(y1-1,y2-r-1,-1) %r\n",
    "                p2y = np.arange(y1,y2-r,-1) %r\n",
    "            elif x1==x2:\n",
    "                v2y = np.arange(y1,y2-r-1,-1) %r\n",
    "                p2y = np.arange(y1,y2-r,-1) %r\n",
    "            else:\n",
    "                v1x = np.arange(x2,x1+1)\n",
    "                v1y = [y2]*len(v1x)\n",
    "                p1x = np.arange(x2+1,x1+1)\n",
    "                p1y = [y2+0.5]*len(p1x)\n",
    "                v2y = np.arange(y2+1,y1+r+1) %r\n",
    "                p2y = np.arange(y2+1,y1+r+1) %r\n",
    "            v2x = [max(x1,x2)]*len(v2y)\n",
    "            p2x = [max(x1,x2)+0.5]*len(p2y)\n",
    "            \n",
    "        if dx == 0:\n",
    "            vx = np.array(v2x)\n",
    "            vy = np.array(v2y)\n",
    "            px = np.array(p2x)\n",
    "            py = np.array(p2y)\n",
    "        else:\n",
    "            vx = np.concatenate((v1x,v2x))\n",
    "            vy = np.concatenate((v1y,v2y))\n",
    "            px = np.concatenate((p1x,p2x))\n",
    "            py = np.concatenate((p1y,p2y))\n",
    "            \n",
    "    else:\n",
    "        if dx > c-dx:\n",
    "            if dy>0:\n",
    "                if x1<x2:\n",
    "                    v1x = np.arange(x1,x2-c-1,-1)%c\n",
    "                    v1y = [y1]*len(v1x)\n",
    "                    p1x = np.arange(x1,x2-c,-1)%c\n",
    "                    p1y = [y1+0.5]*len(p1x)\n",
    "                    v2y = np.arange(y1+1,y2+1)\n",
    "                    p2y = np.arange(y1+1,y2+1)\n",
    "                else:\n",
    "                    v1x = np.arange(x2,x1-c-1,-1)%c\n",
    "                    v1y = [y2]*len(v1x)\n",
    "                    p1x = np.arange(x2,x1-c,-1)%c\n",
    "                    p1y = [y2+0.5]*len(p1x)\n",
    "                    v2y = np.arange(y2-1,y1-1,-1)\n",
    "                    p2y = np.arange(y2,y1,-1)\n",
    "                v2x = [max(x1,x2)]*len(v2y)\n",
    "                p2x = [max(x1,x2)+0.5]*len(p2y)\n",
    "                \n",
    "                vx = np.concatenate((v1x,v2x))\n",
    "                vy = np.concatenate((v1y,v2y))\n",
    "                px = np.concatenate((p1x,p2x))\n",
    "                py = np.concatenate((p1y,p2y))\n",
    "            else:\n",
    "                vx = np.arange(min(x1,x2),max(x1,x2)-c-1,-1)%c\n",
    "                vy = np.array([y1]*len(vx))\n",
    "                px = np.arange(min(x1,x2),max(x1,x2)-c,-1)%c\n",
    "                py = np.array([y1+0.5]*len(px))\n",
    "                \n",
    "        else:\n",
    "            if x1<x2:\n",
    "                v1x = np.arange(x1,x2+1)\n",
    "                v1y = [y1]*len(v1x)\n",
    "                v2y = np.arange(y1+1,y2+1)\n",
    "                v2x = [max(x1,x2)]*len(v2y)\n",
    "            elif x1==x2:\n",
    "                v2y = np.arange(y1,y2+1)\n",
    "                v2x = [max(x1,x2)]*len(v2y)\n",
    "            else:\n",
    "                v1x = np.arange(x2,x1+1)\n",
    "                v1y = [y2]*len(v1x)\n",
    "                v2y = np.arange(y2-1,y1-1,-1)\n",
    "                v2x = [max(x1,x2)]*len(v2y)\n",
    "                \n",
    "            if dy ==0:\n",
    "                vx = np.array(v1x)\n",
    "                vy = np.array(v1y)\n",
    "            elif dx == 0:\n",
    "                vx = np.array(v2x)\n",
    "                vy = np.array(v2y)\n",
    "            else:\n",
    "                vx = np.concatenate((v1x,v2x))\n",
    "                vy = np.concatenate((v1y,v2y))\n",
    "\n",
    "            px = (vx[0:len(vx)-1]+vx[1:])/2 + 0.5\n",
    "            py = (vy[0:len(vy)-1]+vy[1:])/2 + 0.5\n",
    "\n",
    "\n",
    "#     if qubit == \"qubits\":\n",
    "    \n",
    "    return vx, vy, px, py"
   ]
  },
  {
   "cell_type": "markdown",
   "id": "c7b30c11",
   "metadata": {},
   "source": [
    "## Error threshold calculation"
   ]
  },
  {
   "cell_type": "code",
   "execution_count": 502,
   "id": "d033a5f1",
   "metadata": {},
   "outputs": [
    {
     "name": "stdout",
     "output_type": "stream",
     "text": [
      "L=  3\n",
      "L=  5\n",
      "L=  7\n",
      "L=  9\n"
     ]
    }
   ],
   "source": [
    "\n",
    "\n",
    "Nrep = 1000 # number of iterations\n",
    "L_list = [3,5,7,9]\n",
    "px_list = np.linspace(0.001,0.3,20)\n",
    "fail_prob = np.zeros((len(L_list),len(px_list)))\n",
    "\n",
    "for i_L, r in enumerate(L_list):\n",
    "    print(\"L= \", r)\n",
    "    l = 2 # number of sublattice points (2 for toric code) or primal/dual\n",
    "#     r = 5 # number of columns\n",
    "    c = r # number of rows\n",
    "    Λ = np.kron([[0,1],[1,0]],np.eye(l*r*c))\n",
    "\n",
    "    # plaquette stabilzers\n",
    "    Sz = np.zeros((r*c,l*r*c))\n",
    "    for row in range(r):\n",
    "        for col in range(c):\n",
    "            Sz[row*c + col, 2*(row*c+col)] = 1\n",
    "            Sz[row*c + col, 2*(row*c+col)+1] = 1\n",
    "            Sz[row*c + col, 2*(row*c+((col+1)%c))+1] = 1\n",
    "            Sz[row*c + col, 2*(((row+1)%r)*c+col)] = 1\n",
    "    Sz = np.concatenate((np.zeros((r*c,l*r*c)),Sz),axis=1)\n",
    "    # print(Sz.T)\n",
    "\n",
    "    logicals = np.zeros((4,2*l*r*c))\n",
    "    ## x ops\n",
    "    logicals[0,1:2*c+1:2] = np.ones(c) \n",
    "    logicals[1,0:l*r*c:2*c] = np.ones(c) \n",
    "    ## z ops\n",
    "    logicals[2,l*r*c:(l*r*c+2*c):2] = np.ones(c) \n",
    "    logicals[3,l*r*c+1:2*l*r*c:2*c] = np.ones(c)\n",
    "\n",
    "    for i_p, prob_x in enumerate(px_list):\n",
    "        # x flip error\n",
    "        for i_n in range(Nrep):\n",
    "            xflip = np.random.rand(l,r,c) \n",
    "            xflip_inds = np.argwhere(xflip < prob_x)\n",
    "            # print(xflip_inds)\n",
    "            error_x = np.zeros(l*r*c)\n",
    "            for i in range(len(xflip_inds)):\n",
    "                error_x[xflip_inds[i][0]+2*(xflip_inds[i][1]*c+xflip_inds[i][2])] = 1\n",
    "            error_tot = np.reshape(np.concatenate((error_x,np.zeros(l*r*c))),[1,2*l*r*c])\n",
    "\n",
    "            # find syndrome    \n",
    "            syndrome_z = np.dot(error_tot,np.dot(Λ,Sz.T)) % 2\n",
    "            synd_z_inds = np.argwhere(syndrome_z > 0)\n",
    "\n",
    "            z_graph = []\n",
    "            z_graph_inds = []\n",
    "            z_graph_paths = {}\n",
    "            for i1 in range(len(synd_z_inds[:,1])):\n",
    "                for i2 in range(i1+1,len(synd_z_inds[:,1])):\n",
    "                    ind1 = synd_z_inds[i1,1]\n",
    "                    ind2 = synd_z_inds[i2,1]        \n",
    "                    z_graph_inds.append([ind1,ind2])\n",
    "                    y1 = int(ind1/c)\n",
    "                    y2 = int(ind2/c)\n",
    "                    dy = np.abs(y1-y2)\n",
    "                    x1 = ind1%c\n",
    "                    x2 = ind2%c\n",
    "                    dx = np.abs(x1-x2)        \n",
    "                    dy = min(dy,r-dy)\n",
    "                    dx = min(dx,c-dx)\n",
    "                    z_graph.append((i1,i2,dx+dy ))\n",
    "\n",
    "            mates = blossom5.mwpm_ids(z_graph)\n",
    "            rec_z = np.zeros(l*r*c)\n",
    "\n",
    "            for links in mates:\n",
    "                l_graph = synd_z_inds[np.array(links),1]\n",
    "\n",
    "                x1 = (l_graph[0]%c) \n",
    "                y1 = int(l_graph[0]/c)\n",
    "                x2 = (l_graph[1]%c) \n",
    "                y2 = int(l_graph[1]/c) \n",
    "                dx = np.abs(x1-x2)\n",
    "                dy = np.abs(y1-y2)\n",
    "                vx, vy, px, py = recovery(x1,y1,x2,y2)\n",
    "\n",
    "                for j in range(len(px)):\n",
    "                    if px[j]-int(px[j])>0:\n",
    "                        rec_z[2*(int(py[j])*c+int(px[j]))] = 1\n",
    "                    else:\n",
    "                        rec_z[1+2*(int(py[j])*c+int(px[j]))] = 1\n",
    "\n",
    "            rec_tot = np.reshape(np.concatenate((rec_z,np.zeros(l*r*c))),[1,2*l*r*c])\n",
    "\n",
    "            ###########\n",
    "            if np.linalg.norm(np.dot( (rec_tot + error_tot )%2 , np.dot(Λ, logicals[2:4,:].T)) % 2) > 0:\n",
    "                fail_prob[i_L,i_p] +=  1\n",
    "    \n"
   ]
  },
  {
   "cell_type": "code",
   "execution_count": 503,
   "id": "2b7600da",
   "metadata": {},
   "outputs": [
    {
     "data": {
      "image/png": "[encoded data removed]",
      "text/plain": [
       "<Figure size 432x288 with 1 Axes>"
      ]
     },
     "metadata": {
      "needs_background": "light"
     },
     "output_type": "display_data"
    }
   ],
   "source": [
    "plt.plot(px_list,fail_prob.T/Nrep,\"o-\")\n",
    "plt.show()"
   ]
  },
  {
   "cell_type": "code",
   "execution_count": 482,
   "id": "fc6f1413",
   "metadata": {},
   "outputs": [
    {
     "data": {
      "image/png": "[encoded data removed]",
      "text/plain": [
       "<Figure size 432x288 with 1 Axes>"
      ]
     },
     "metadata": {
      "needs_background": "light"
     },
     "output_type": "display_data"
    },
    {
     "data": {
      "text/plain": [
       "array([[1., 0.]])"
      ]
     },
     "execution_count": 482,
     "metadata": {},
     "output_type": "execute_result"
    }
   ],
   "source": [
    "l = 2 # number of sublattice points (2 for toric code) or primal/dual\n",
    "r = 5 # number of columns\n",
    "c = 5 # number of rows\n",
    "\n",
    "Λ = np.kron([[0,1],[1,0]],np.eye(l*r*c))\n",
    "# star stabilzers\n",
    "Sx = np.zeros((r*c,l*r*c))\n",
    "for row in range(r):\n",
    "    for col in range(c):\n",
    "        Sx[row*c + col, 2*(row*c+col)+1] = 1\n",
    "        Sx[row*c + col, 2*(((row+1)%r)*c+((col-1)%c))] = 1\n",
    "        Sx[row*c + col, 2*(((row+1)%r)*c+col)] = 1\n",
    "        Sx[row*c + col, 2*(((row+1)%r)*c+col)+1] = 1\n",
    "Sx = np.concatenate((Sx,np.zeros((r*c,l*r*c))),axis=1)\n",
    "\n",
    "\n",
    "# plaquette stabilzers\n",
    "Sz = np.zeros((r*c,l*r*c))\n",
    "for row in range(r):\n",
    "    for col in range(c):\n",
    "        Sz[row*c + col, 2*(row*c+col)] = 1\n",
    "        Sz[row*c + col, 2*(row*c+col)+1] = 1\n",
    "        Sz[row*c + col, 2*(row*c+((col+1)%c))+1] = 1\n",
    "        Sz[row*c + col, 2*(((row+1)%r)*c+col)] = 1\n",
    "Sz = np.concatenate((np.zeros((r*c,l*r*c)),Sz),axis=1)\n",
    "# print(Sz.T)\n",
    "\n",
    "logicals = np.zeros((4,2*l*r*c))\n",
    "## x ops\n",
    "logicals[0,1:2*c+1:2] = np.ones(c) \n",
    "logicals[1,0:l*r*c:2*c] = np.ones(c) \n",
    "## z ops\n",
    "logicals[2,l*r*c:(l*r*c+2*c):2] = np.ones(c) \n",
    "logicals[3,l*r*c+1:2*l*r*c:2*c] = np.ones(c)\n",
    "\n",
    "# z flip error\n",
    "pz = 0.1 # error probability\n",
    "zflip = np.random.rand(l,r,c) \n",
    "zflip_inds = np.argwhere(zflip < pz)\n",
    "# print(zflip)\n",
    "# print(zflip_inds)\n",
    "error_z = np.zeros(l*r*c)\n",
    "for i in range(len(zflip_inds)):\n",
    "    error_z[zflip_inds[i][0]+2*(zflip_inds[i][1]*c+zflip_inds[i][2])] = 1\n",
    "# error_tot = np.reshape(np.concatenate((np.zeros(l*r*c),error_z)),[1,2*l*r*c])\n",
    "# plt.figure(1)\n",
    "# for i in range(len(zflip_inds)):\n",
    "#     if zflip_inds[i][0] == 0 :\n",
    "#         ry = zflip_inds[i][1] \n",
    "#         rx = zflip_inds[i][2] + 0.5 +0.1  \n",
    "#     else:\n",
    "#         ry = zflip_inds[i][1] + 0.5 +0.1\n",
    "#         rx = zflip_inds[i][2]    \n",
    "\n",
    "#     plt.text(rx,ry,\"Z\",color=\"b\")\n",
    "\n",
    "\n",
    "# plt.grid()\n",
    "\n",
    "# x flip error\n",
    "px = 0.1 # error probability\n",
    "xflip = np.random.rand(l,r,c) \n",
    "xflip_inds = np.argwhere(xflip < px)\n",
    "# print(xflip_inds)\n",
    "error_x = np.zeros(l*r*c)\n",
    "for i in range(len(xflip_inds)):\n",
    "    error_x[xflip_inds[i][0]+2*(xflip_inds[i][1]*c+xflip_inds[i][2])] = 1\n",
    "\n",
    "plt.figure(1)\n",
    "for i in range(len(xflip_inds)):\n",
    "    if xflip_inds[i][0] == 0 :\n",
    "        ry = xflip_inds[i][1] \n",
    "        rx = xflip_inds[i][2] + 0.5   \n",
    "    else:\n",
    "        ry = xflip_inds[i][1] + 0.5\n",
    "        rx = xflip_inds[i][2]    \n",
    "\n",
    "    plt.text(rx,ry,\"X\",color=\"r\")\n",
    "# plt.gca().invert_yaxis()\n",
    "\n",
    "error_tot = np.reshape(np.concatenate((error_x,0*error_z)),[1,2*l*r*c])\n",
    "\n",
    "# find syndrome\n",
    "syndrome_x = np.dot(error_tot,np.dot(Λ,Sx.T)) % 2\n",
    "synd_x_inds = np.argwhere(syndrome_x > 0)\n",
    "# print(synd_x_inds)\n",
    "# plt.figure(1)\n",
    "# for i in range(len(synd_x_inds)):\n",
    "#     plt.text((synd_x_inds[i][1]%c)-0.05,int(synd_x_inds[i][1]/c)+1.05,'X')\n",
    "    \n",
    "syndrome_z = np.dot(error_tot,np.dot(Λ,Sz.T)) % 2\n",
    "synd_z_inds = np.argwhere(syndrome_z > 0)\n",
    "# print(synd_z_inds)\n",
    "plt.figure(1)\n",
    "for i in range(len(synd_z_inds)):\n",
    "    plt.text((synd_z_inds[i][1]%c)+0.5,int(synd_z_inds[i][1]/c)+0.45,'Z')\n",
    "\n",
    "z_graph = []\n",
    "z_graph_inds = []\n",
    "z_graph_paths = {}\n",
    "for i1 in range(len(synd_z_inds[:,1])):\n",
    "    for i2 in range(i1+1,len(synd_z_inds[:,1])):\n",
    "        ind1 = synd_z_inds[i1,1]\n",
    "        ind2 = synd_z_inds[i2,1]        \n",
    "        z_graph_inds.append([ind1,ind2])\n",
    "        y1 = int(ind1/c)\n",
    "        y2 = int(ind2/c)\n",
    "        dy = np.abs(y1-y2)\n",
    "        x1 = ind1%c\n",
    "        x2 = ind2%c\n",
    "        dx = np.abs(x1-x2)        \n",
    "        dy = min(dy,r-dy)\n",
    "        dx = min(dx,c-dx)\n",
    "        z_graph.append((i1,i2,dx+dy ))\n",
    "\n",
    "mates = blossom5.mwpm_ids(z_graph)\n",
    "rec_z = np.zeros(l*r*c)\n",
    "\n",
    "plt.figure(1)\n",
    "for links in mates:\n",
    "    l_graph = synd_z_inds[np.array(links),1]\n",
    "\n",
    "    x1 = (l_graph[0]%c) \n",
    "    y1 = int(l_graph[0]/c)\n",
    "    x2 = (l_graph[1]%c) \n",
    "    y2 = int(l_graph[1]/c) \n",
    "    dx = np.abs(x1-x2)\n",
    "    dy = np.abs(y1-y2)\n",
    "#     print([x1,y1],[x2,y2])\n",
    "    vx, vy, px, py = recovery(x1,y1,x2,y2)\n",
    "#     plt.plot(vx+0.5,vy+0.5,\"k--\")\n",
    "    plt.plot(px,py,\"ro\")\n",
    "    \n",
    "    for j in range(len(px)):\n",
    "        if px[j]-int(px[j])>0:\n",
    "            rec_z[2*(int(py[j])*c+int(px[j]))] = 1\n",
    "        else:\n",
    "            rec_z[1+2*(int(py[j])*c+int(px[j]))] = 1\n",
    "\n",
    "rec_tot = np.reshape(np.concatenate((rec_z,np.zeros(l*r*c))),[1,2*l*r*c])\n",
    "\n",
    "###########\n",
    "\n",
    "plt.xticks(np.arange(0,c+1.))\n",
    "plt.yticks(np.arange(0,r+1.))\n",
    "plt.grid()\n",
    "plt.show()\n",
    "\n",
    "np.dot( (rec_tot + error_tot )%2 , np.dot(Λ, logicals[2:4,:].T)) % 2\n"
   ]
  },
  {
   "cell_type": "markdown",
   "id": "dbb2d1c7",
   "metadata": {},
   "source": [
    "# check via plotting"
   ]
  },
  {
   "cell_type": "code",
   "execution_count": 433,
   "id": "bb4fe3b3",
   "metadata": {
    "scrolled": true
   },
   "outputs": [
    {
     "name": "stdout",
     "output_type": "stream",
     "text": [
      "[1, 0] [2, 0]\n",
      "[array([2.]), array([0.5])]\n"
     ]
    },
    {
     "data": {
      "image/png": "[encoded data removed]",
      "text/plain": [
       "<Figure size 432x288 with 1 Axes>"
      ]
     },
     "metadata": {
      "needs_background": "light"
     },
     "output_type": "display_data"
    },
    {
     "name": "stdout",
     "output_type": "stream",
     "text": [
      "--------------\n",
      "[1, 0] [3, 0]\n",
      "[array([2., 3.]), array([0.5, 0.5])]\n"
     ]
    },
    {
     "data": {
      "image/png": "[encoded data removed]",
      "text/plain": [
       "<Figure size 432x288 with 1 Axes>"
      ]
     },
     "metadata": {
      "needs_background": "light"
     },
     "output_type": "display_data"
    },
    {
     "name": "stdout",
     "output_type": "stream",
     "text": [
      "--------------\n",
      "[1, 0] [4, 0]\n",
      "[array([1, 0]), array([0.5, 0.5])]\n"
     ]
    },
    {
     "data": {
      "image/png": "[encoded data removed]",
      "text/plain": [
       "<Figure size 432x288 with 1 Axes>"
      ]
     },
     "metadata": {
      "needs_background": "light"
     },
     "output_type": "display_data"
    },
    {
     "name": "stdout",
     "output_type": "stream",
     "text": [
      "--------------\n",
      "[1, 0] [2, 1]\n",
      "[array([2. , 2.5]), array([0.5, 1. ])]\n"
     ]
    },
    {
     "data": {
      "image/png": "[encoded data removed]",
      "text/plain": [
       "<Figure size 432x288 with 1 Axes>"
      ]
     },
     "metadata": {
      "needs_background": "light"
     },
     "output_type": "display_data"
    },
    {
     "name": "stdout",
     "output_type": "stream",
     "text": [
      "--------------\n",
      "[1, 0] [0, 2]\n",
      "[array([1. , 1.5, 1.5]), array([2.5, 2. , 1. ])]\n"
     ]
    },
    {
     "data": {
      "image/png": "[encoded data removed]",
      "text/plain": [
       "<Figure size 432x288 with 1 Axes>"
      ]
     },
     "metadata": {
      "needs_background": "light"
     },
     "output_type": "display_data"
    },
    {
     "name": "stdout",
     "output_type": "stream",
     "text": [
      "--------------\n",
      "[1, 0] [3, 2]\n",
      "[array([2. , 3. , 3.5, 3.5]), array([0.5, 0.5, 1. , 2. ])]\n"
     ]
    },
    {
     "data": {
      "image/png": "[encoded data removed]",
      "text/plain": [
       "<Figure size 432x288 with 1 Axes>"
      ]
     },
     "metadata": {
      "needs_background": "light"
     },
     "output_type": "display_data"
    },
    {
     "name": "stdout",
     "output_type": "stream",
     "text": [
      "--------------\n",
      "[1, 0] [1, 3]\n",
      "[array([1.5, 1.5]), array([0, 4])]\n"
     ]
    },
    {
     "data": {
      "image/png": "[encoded data removed]",
      "text/plain": [
       "<Figure size 432x288 with 1 Axes>"
      ]
     },
     "metadata": {
      "needs_background": "light"
     },
     "output_type": "display_data"
    },
    {
     "name": "stdout",
     "output_type": "stream",
     "text": [
      "--------------\n",
      "[1, 0] [4, 3]\n",
      "[array([1. , 0. , 4.5, 4.5]), array([0.5, 0.5, 0. , 4. ])]\n"
     ]
    },
    {
     "data": {
      "image/png": "[encoded data removed]",
      "text/plain": [
       "<Figure size 432x288 with 1 Axes>"
      ]
     },
     "metadata": {
      "needs_background": "light"
     },
     "output_type": "display_data"
    },
    {
     "name": "stdout",
     "output_type": "stream",
     "text": [
      "--------------\n",
      "[1, 0] [1, 4]\n",
      "[array([1.5]), array([0])]\n"
     ]
    },
    {
     "data": {
      "image/png": "[encoded data removed]",
      "text/plain": [
       "<Figure size 432x288 with 1 Axes>"
      ]
     },
     "metadata": {
      "needs_background": "light"
     },
     "output_type": "display_data"
    },
    {
     "name": "stdout",
     "output_type": "stream",
     "text": [
      "--------------\n",
      "[2, 0] [3, 0]\n",
      "[array([3.]), array([0.5])]\n"
     ]
    },
    {
     "data": {
      "image/png": "[encoded data removed]",
      "text/plain": [
       "<Figure size 432x288 with 1 Axes>"
      ]
     },
     "metadata": {
      "needs_background": "light"
     },
     "output_type": "display_data"
    },
    {
     "name": "stdout",
     "output_type": "stream",
     "text": [
      "--------------\n",
      "[2, 0] [4, 0]\n",
      "[array([3., 4.]), array([0.5, 0.5])]\n"
     ]
    },
    {
     "data": {
      "image/png": "[encoded data removed]",
      "text/plain": [
       "<Figure size 432x288 with 1 Axes>"
      ]
     },
     "metadata": {
      "needs_background": "light"
     },
     "output_type": "display_data"
    },
    {
     "name": "stdout",
     "output_type": "stream",
     "text": [
      "--------------\n",
      "[2, 0] [2, 1]\n",
      "[array([2.5]), array([1.])]\n"
     ]
    },
    {
     "data": {
      "image/png": "[encoded data removed]",
      "text/plain": [
       "<Figure size 432x288 with 1 Axes>"
      ]
     },
     "metadata": {
      "needs_background": "light"
     },
     "output_type": "display_data"
    },
    {
     "name": "stdout",
     "output_type": "stream",
     "text": [
      "--------------\n",
      "[2, 0] [0, 2]\n",
      "[array([1. , 2. , 2.5, 2.5]), array([2.5, 2.5, 2. , 1. ])]\n"
     ]
    },
    {
     "data": {
      "image/png": "[encoded data removed]",
      "text/plain": [
       "<Figure size 432x288 with 1 Axes>"
      ]
     },
     "metadata": {
      "needs_background": "light"
     },
     "output_type": "display_data"
    },
    {
     "name": "stdout",
     "output_type": "stream",
     "text": [
      "--------------\n",
      "[2, 0] [3, 2]\n",
      "[array([3. , 3.5, 3.5]), array([0.5, 1. , 2. ])]\n"
     ]
    },
    {
     "data": {
      "image/png": "[encoded data removed]",
      "text/plain": [
       "<Figure size 432x288 with 1 Axes>"
      ]
     },
     "metadata": {
      "needs_background": "light"
     },
     "output_type": "display_data"
    },
    {
     "name": "stdout",
     "output_type": "stream",
     "text": [
      "--------------\n",
      "[2, 0] [1, 3]\n",
      "[array([2. , 2.5, 2.5]), array([3.5, 4. , 0. ])]\n"
     ]
    },
    {
     "data": {
      "image/png": "[encoded data removed]",
      "text/plain": [
       "<Figure size 432x288 with 1 Axes>"
      ]
     },
     "metadata": {
      "needs_background": "light"
     },
     "output_type": "display_data"
    },
    {
     "name": "stdout",
     "output_type": "stream",
     "text": [
      "--------------\n",
      "[2, 0] [4, 3]\n",
      "[array([3. , 4. , 4.5, 4.5]), array([0.5, 0.5, 0. , 4. ])]\n"
     ]
    },
    {
     "data": {
      "image/png": "[encoded data removed]",
      "text/plain": [
       "<Figure size 432x288 with 1 Axes>"
      ]
     },
     "metadata": {
      "needs_background": "light"
     },
     "output_type": "display_data"
    },
    {
     "name": "stdout",
     "output_type": "stream",
     "text": [
      "--------------\n",
      "[2, 0] [1, 4]\n",
      "[array([2. , 2.5]), array([4.5, 0. ])]\n"
     ]
    },
    {
     "data": {
      "image/png": "[encoded data removed]",
      "text/plain": [
       "<Figure size 432x288 with 1 Axes>"
      ]
     },
     "metadata": {
      "needs_background": "light"
     },
     "output_type": "display_data"
    },
    {
     "name": "stdout",
     "output_type": "stream",
     "text": [
      "--------------\n",
      "[3, 0] [4, 0]\n",
      "[array([4.]), array([0.5])]\n"
     ]
    },
    {
     "data": {
      "image/png": "[encoded data removed]",
      "text/plain": [
       "<Figure size 432x288 with 1 Axes>"
      ]
     },
     "metadata": {
      "needs_background": "light"
     },
     "output_type": "display_data"
    },
    {
     "name": "stdout",
     "output_type": "stream",
     "text": [
      "--------------\n",
      "[3, 0] [2, 1]\n",
      "[array([3. , 3.5]), array([1.5, 1. ])]\n"
     ]
    },
    {
     "data": {
      "image/png": "[encoded data removed]",
      "text/plain": [
       "<Figure size 432x288 with 1 Axes>"
      ]
     },
     "metadata": {
      "needs_background": "light"
     },
     "output_type": "display_data"
    },
    {
     "name": "stdout",
     "output_type": "stream",
     "text": [
      "--------------\n",
      "[3, 0] [0, 2]\n",
      "[array([0. , 4. , 3.5, 3.5]), array([2.5, 2.5, 2. , 1. ])]\n"
     ]
    },
    {
     "data": {
      "image/png": "[encoded data removed]",
      "text/plain": [
       "<Figure size 432x288 with 1 Axes>"
      ]
     },
     "metadata": {
      "needs_background": "light"
     },
     "output_type": "display_data"
    },
    {
     "name": "stdout",
     "output_type": "stream",
     "text": [
      "--------------\n",
      "[3, 0] [3, 2]\n",
      "[array([3.5, 3.5]), array([1., 2.])]\n"
     ]
    },
    {
     "data": {
      "image/png": "[encoded data removed]",
      "text/plain": [
       "<Figure size 432x288 with 1 Axes>"
      ]
     },
     "metadata": {
      "needs_background": "light"
     },
     "output_type": "display_data"
    },
    {
     "name": "stdout",
     "output_type": "stream",
     "text": [
      "--------------\n",
      "[3, 0] [1, 3]\n",
      "[array([2. , 3. , 3.5, 3.5]), array([3.5, 3.5, 4. , 0. ])]\n"
     ]
    },
    {
     "data": {
      "image/png": "[encoded data removed]",
      "text/plain": [
       "<Figure size 432x288 with 1 Axes>"
      ]
     },
     "metadata": {
      "needs_background": "light"
     },
     "output_type": "display_data"
    },
    {
     "name": "stdout",
     "output_type": "stream",
     "text": [
      "--------------\n",
      "[3, 0] [4, 3]\n",
      "[array([4. , 4.5, 4.5]), array([0.5, 0. , 4. ])]\n"
     ]
    },
    {
     "data": {
      "image/png": "[encoded data removed]",
      "text/plain": [
       "<Figure size 432x288 with 1 Axes>"
      ]
     },
     "metadata": {
      "needs_background": "light"
     },
     "output_type": "display_data"
    },
    {
     "name": "stdout",
     "output_type": "stream",
     "text": [
      "--------------\n",
      "[3, 0] [1, 4]\n",
      "[array([2. , 3. , 3.5]), array([4.5, 4.5, 0. ])]\n"
     ]
    },
    {
     "data": {
      "image/png": "[encoded data removed]",
      "text/plain": [
       "<Figure size 432x288 with 1 Axes>"
      ]
     },
     "metadata": {
      "needs_background": "light"
     },
     "output_type": "display_data"
    },
    {
     "name": "stdout",
     "output_type": "stream",
     "text": [
      "--------------\n",
      "[4, 0] [2, 1]\n",
      "[array([3. , 4. , 4.5]), array([1.5, 1.5, 1. ])]\n"
     ]
    },
    {
     "data": {
      "image/png": "[encoded data removed]",
      "text/plain": [
       "<Figure size 432x288 with 1 Axes>"
      ]
     },
     "metadata": {
      "needs_background": "light"
     },
     "output_type": "display_data"
    },
    {
     "name": "stdout",
     "output_type": "stream",
     "text": [
      "--------------\n",
      "[4, 0] [0, 2]\n",
      "[array([0. , 4.5, 4.5]), array([2.5, 2. , 1. ])]\n"
     ]
    },
    {
     "data": {
      "image/png": "[encoded data removed]",
      "text/plain": [
       "<Figure size 432x288 with 1 Axes>"
      ]
     },
     "metadata": {
      "needs_background": "light"
     },
     "output_type": "display_data"
    },
    {
     "name": "stdout",
     "output_type": "stream",
     "text": [
      "--------------\n",
      "[4, 0] [3, 2]\n",
      "[array([4. , 4.5, 4.5]), array([2.5, 2. , 1. ])]\n"
     ]
    },
    {
     "data": {
      "image/png": "[encoded data removed]",
      "text/plain": [
       "<Figure size 432x288 with 1 Axes>"
      ]
     },
     "metadata": {
      "needs_background": "light"
     },
     "output_type": "display_data"
    },
    {
     "name": "stdout",
     "output_type": "stream",
     "text": [
      "--------------\n",
      "[4, 0] [1, 3]\n",
      "[array([1. , 0. , 4.5, 4.5]), array([3.5, 3.5, 4. , 0. ])]\n"
     ]
    },
    {
     "data": {
      "image/png": "[encoded data removed]",
      "text/plain": [
       "<Figure size 432x288 with 1 Axes>"
      ]
     },
     "metadata": {
      "needs_background": "light"
     },
     "output_type": "display_data"
    },
    {
     "name": "stdout",
     "output_type": "stream",
     "text": [
      "--------------\n",
      "[4, 0] [4, 3]\n",
      "[array([4.5, 4.5]), array([0, 4])]\n"
     ]
    },
    {
     "data": {
      "image/png": "[encoded data removed]",
      "text/plain": [
       "<Figure size 432x288 with 1 Axes>"
      ]
     },
     "metadata": {
      "needs_background": "light"
     },
     "output_type": "display_data"
    },
    {
     "name": "stdout",
     "output_type": "stream",
     "text": [
      "--------------\n",
      "[4, 0] [1, 4]\n",
      "[array([1. , 0. , 4.5]), array([4.5, 4.5, 0. ])]\n"
     ]
    },
    {
     "data": {
      "image/png": "[encoded data removed]",
      "text/plain": [
       "<Figure size 432x288 with 1 Axes>"
      ]
     },
     "metadata": {
      "needs_background": "light"
     },
     "output_type": "display_data"
    },
    {
     "name": "stdout",
     "output_type": "stream",
     "text": [
      "--------------\n",
      "[2, 1] [0, 2]\n",
      "[array([1. , 2. , 2.5]), array([2.5, 2.5, 2. ])]\n"
     ]
    },
    {
     "data": {
      "image/png": "[encoded data removed]",
      "text/plain": [
       "<Figure size 432x288 with 1 Axes>"
      ]
     },
     "metadata": {
      "needs_background": "light"
     },
     "output_type": "display_data"
    },
    {
     "name": "stdout",
     "output_type": "stream",
     "text": [
      "--------------\n",
      "[2, 1] [3, 2]\n",
      "[array([3. , 3.5]), array([1.5, 2. ])]\n"
     ]
    },
    {
     "data": {
      "image/png": "[encoded data removed]",
      "text/plain": [
       "<Figure size 432x288 with 1 Axes>"
      ]
     },
     "metadata": {
      "needs_background": "light"
     },
     "output_type": "display_data"
    },
    {
     "name": "stdout",
     "output_type": "stream",
     "text": [
      "--------------\n",
      "[2, 1] [1, 3]\n",
      "[array([2. , 2.5, 2.5]), array([3.5, 3. , 2. ])]\n"
     ]
    },
    {
     "data": {
      "image/png": "[encoded data removed]",
      "text/plain": [
       "<Figure size 432x288 with 1 Axes>"
      ]
     },
     "metadata": {
      "needs_background": "light"
     },
     "output_type": "display_data"
    },
    {
     "name": "stdout",
     "output_type": "stream",
     "text": [
      "--------------\n",
      "[2, 1] [4, 3]\n",
      "[array([3. , 4. , 4.5, 4.5]), array([1.5, 1.5, 2. , 3. ])]\n"
     ]
    },
    {
     "data": {
      "image/png": "[encoded data removed]",
      "text/plain": [
       "<Figure size 432x288 with 1 Axes>"
      ]
     },
     "metadata": {
      "needs_background": "light"
     },
     "output_type": "display_data"
    },
    {
     "name": "stdout",
     "output_type": "stream",
     "text": [
      "--------------\n",
      "[2, 1] [1, 4]\n",
      "[array([2. , 2.5, 2.5]), array([4.5, 0. , 1. ])]\n"
     ]
    },
    {
     "data": {
      "image/png": "[encoded data removed]",
      "text/plain": [
       "<Figure size 432x288 with 1 Axes>"
      ]
     },
     "metadata": {
      "needs_background": "light"
     },
     "output_type": "display_data"
    },
    {
     "name": "stdout",
     "output_type": "stream",
     "text": [
      "--------------\n",
      "[0, 2] [3, 2]\n",
      "[array([0, 4]), array([2.5, 2.5])]\n"
     ]
    },
    {
     "data": {
      "image/png": "[encoded data removed]",
      "text/plain": [
       "<Figure size 432x288 with 1 Axes>"
      ]
     },
     "metadata": {
      "needs_background": "light"
     },
     "output_type": "display_data"
    },
    {
     "name": "stdout",
     "output_type": "stream",
     "text": [
      "--------------\n",
      "[0, 2] [1, 3]\n",
      "[array([1. , 1.5]), array([2.5, 3. ])]\n"
     ]
    },
    {
     "data": {
      "image/png": "[encoded data removed]",
      "text/plain": [
       "<Figure size 432x288 with 1 Axes>"
      ]
     },
     "metadata": {
      "needs_background": "light"
     },
     "output_type": "display_data"
    },
    {
     "name": "stdout",
     "output_type": "stream",
     "text": [
      "--------------\n",
      "[0, 2] [4, 3]\n",
      "[array([0. , 4.5]), array([2.5, 3. ])]\n"
     ]
    },
    {
     "data": {
      "image/png": "[encoded data removed]",
      "text/plain": [
       "<Figure size 432x288 with 1 Axes>"
      ]
     },
     "metadata": {
      "needs_background": "light"
     },
     "output_type": "display_data"
    },
    {
     "name": "stdout",
     "output_type": "stream",
     "text": [
      "--------------\n",
      "[0, 2] [1, 4]\n",
      "[array([1. , 1.5, 1.5]), array([2.5, 3. , 4. ])]\n"
     ]
    },
    {
     "data": {
      "image/png": "[encoded data removed]",
      "text/plain": [
       "<Figure size 432x288 with 1 Axes>"
      ]
     },
     "metadata": {
      "needs_background": "light"
     },
     "output_type": "display_data"
    },
    {
     "name": "stdout",
     "output_type": "stream",
     "text": [
      "--------------\n",
      "[3, 2] [1, 3]\n",
      "[array([2. , 3. , 3.5]), array([3.5, 3.5, 3. ])]\n"
     ]
    },
    {
     "data": {
      "image/png": "[encoded data removed]",
      "text/plain": [
       "<Figure size 432x288 with 1 Axes>"
      ]
     },
     "metadata": {
      "needs_background": "light"
     },
     "output_type": "display_data"
    },
    {
     "name": "stdout",
     "output_type": "stream",
     "text": [
      "--------------\n",
      "[3, 2] [4, 3]\n",
      "[array([4. , 4.5]), array([2.5, 3. ])]\n"
     ]
    },
    {
     "data": {
      "image/png": "[encoded data removed]",
      "text/plain": [
       "<Figure size 432x288 with 1 Axes>"
      ]
     },
     "metadata": {
      "needs_background": "light"
     },
     "output_type": "display_data"
    },
    {
     "name": "stdout",
     "output_type": "stream",
     "text": [
      "--------------\n",
      "[3, 2] [1, 4]\n",
      "[array([2. , 3. , 3.5, 3.5]), array([4.5, 4.5, 4. , 3. ])]\n"
     ]
    },
    {
     "data": {
      "image/png": "[encoded data removed]",
      "text/plain": [
       "<Figure size 432x288 with 1 Axes>"
      ]
     },
     "metadata": {
      "needs_background": "light"
     },
     "output_type": "display_data"
    },
    {
     "name": "stdout",
     "output_type": "stream",
     "text": [
      "--------------\n",
      "[1, 3] [4, 3]\n",
      "[array([1, 0]), array([3.5, 3.5])]\n"
     ]
    },
    {
     "data": {
      "image/png": "[encoded data removed]",
      "text/plain": [
       "<Figure size 432x288 with 1 Axes>"
      ]
     },
     "metadata": {
      "needs_background": "light"
     },
     "output_type": "display_data"
    },
    {
     "name": "stdout",
     "output_type": "stream",
     "text": [
      "--------------\n",
      "[1, 3] [1, 4]\n",
      "[array([1.5]), array([4.])]\n"
     ]
    },
    {
     "data": {
      "image/png": "[encoded data removed]",
      "text/plain": [
       "<Figure size 432x288 with 1 Axes>"
      ]
     },
     "metadata": {
      "needs_background": "light"
     },
     "output_type": "display_data"
    },
    {
     "name": "stdout",
     "output_type": "stream",
     "text": [
      "--------------\n",
      "[4, 3] [1, 4]\n",
      "[array([1. , 0. , 4.5]), array([4.5, 4.5, 4. ])]\n"
     ]
    },
    {
     "data": {
      "image/png": "[encoded data removed]",
      "text/plain": [
       "<Figure size 432x288 with 1 Axes>"
      ]
     },
     "metadata": {
      "needs_background": "light"
     },
     "output_type": "display_data"
    },
    {
     "name": "stdout",
     "output_type": "stream",
     "text": [
      "--------------\n"
     ]
    }
   ],
   "source": [
    "def plot_qubit_error(vec,text):\n",
    "    for i in range(len(vec)):\n",
    "        if vec[i][0] == 0 :\n",
    "            ry = vec[i][1] \n",
    "            rx = vec[i][2] + 0.5   \n",
    "        else:\n",
    "            ry = vec[i][1] + 0.5\n",
    "            rx = vec[i][2]    \n",
    "        plt.text(rx,ry,text,color=\"g\")\n",
    "\n",
    "def recovery(x1,y1,x2,y2):\n",
    "    if y2<y1:\n",
    "        x1, x2 = x2, x1\n",
    "        y1, y2 = y2, y1\n",
    "\n",
    "    dx = np.abs(x1-x2)\n",
    "    dy = np.abs(y1-y2)\n",
    "    dl = min(dx,c-dx)+min(dy,r-dy)\n",
    "    if dy > r-dy:\n",
    "        if dx > c-dx:\n",
    "            if x1<x2:\n",
    "                v1x = np.arange(x1,x2-c-1,-1) %c \n",
    "                v1y = [y1]*len(v1x)\n",
    "                p1x = np.arange(x1,x2-c,-1)%c\n",
    "                p1y = [y1+0.5]*len(p1x)\n",
    "                v2y = np.arange(y1-1,y2-r-1,-1) %r\n",
    "                p2y = np.arange(y1,y2-r,-1)%r\n",
    "            else:\n",
    "                v1x = np.arange(x2,x1-c-1,-1) %c \n",
    "                v1y = [y2]*len(v1x)\n",
    "                p1x = np.arange(x2,x1-c,-1)%c\n",
    "                p1y = [y2+0.5]*len(p1x)                \n",
    "                v2y = np.arange(y2+1,y1+r+1) %r\n",
    "                p2y = np.arange(y2+1,y1+r+1)%r\n",
    "            v2x = [max(x1,x2)]*len(v2y)\n",
    "            p2x = [max(x1,x2)+0.5]*len(p2y)\n",
    "        else:\n",
    "            if x1<x2:\n",
    "                v1x = np.arange(x1,x2+1)\n",
    "                v1y = [y1]*len(v1x)\n",
    "                p1x = np.arange(x1+1,x2+1)\n",
    "                p1y = [y1+0.5]*len(p1x)\n",
    "                v2y = np.arange(y1-1,y2-r-1,-1) %r\n",
    "                p2y = np.arange(y1,y2-r,-1) %r\n",
    "            elif x1==x2:\n",
    "                v2y = np.arange(y1,y2-r-1,-1) %r\n",
    "                p2y = np.arange(y1,y2-r,-1) %r\n",
    "            else:\n",
    "                v1x = np.arange(x2,x1+1)\n",
    "                v1y = [y2]*len(v1x)\n",
    "                p1x = np.arange(x2+1,x1+1)\n",
    "                p1y = [y2+0.5]*len(p1x)\n",
    "                v2y = np.arange(y2+1,y1+r+1) %r\n",
    "                p2y = np.arange(y2+1,y1+r+1) %r\n",
    "            v2x = [max(x1,x2)]*len(v2y)\n",
    "            p2x = [max(x1,x2)+0.5]*len(p2y)\n",
    "            \n",
    "        if dx == 0:\n",
    "            vx = np.array(v2x)\n",
    "            vy = np.array(v2y)\n",
    "            px = np.array(p2x)\n",
    "            py = np.array(p2y)\n",
    "        else:\n",
    "            vx = np.concatenate((v1x,v2x))\n",
    "            vy = np.concatenate((v1y,v2y))\n",
    "            px = np.concatenate((p1x,p2x))\n",
    "            py = np.concatenate((p1y,p2y))\n",
    "            \n",
    "    else:\n",
    "        if dx > c-dx:\n",
    "            if dy>0:\n",
    "                if x1<x2:\n",
    "                    v1x = np.arange(x1,x2-c-1,-1)%c\n",
    "                    v1y = [y1]*len(v1x)\n",
    "                    p1x = np.arange(x1,x2-c,-1)%c\n",
    "                    p1y = [y1+0.5]*len(p1x)\n",
    "                    v2y = np.arange(y1+1,y2+1)\n",
    "                    p2y = np.arange(y1+1,y2+1)\n",
    "                else:\n",
    "                    v1x = np.arange(x2,x1-c-1,-1)%c\n",
    "                    v1y = [y2]*len(v1x)\n",
    "                    p1x = np.arange(x2,x1-c,-1)%c\n",
    "                    p1y = [y2+0.5]*len(p1x)\n",
    "                    v2y = np.arange(y2-1,y1-1,-1)\n",
    "                    p2y = np.arange(y2,y1,-1)\n",
    "                v2x = [max(x1,x2)]*len(v2y)\n",
    "                p2x = [max(x1,x2)+0.5]*len(p2y)\n",
    "                \n",
    "                vx = np.concatenate((v1x,v2x))\n",
    "                vy = np.concatenate((v1y,v2y))\n",
    "                px = np.concatenate((p1x,p2x))\n",
    "                py = np.concatenate((p1y,p2y))\n",
    "            else:\n",
    "                vx = np.arange(min(x1,x2),max(x1,x2)-c-1,-1)%c\n",
    "                vy = np.array([y1]*len(vx))\n",
    "                px = np.arange(min(x1,x2),max(x1,x2)-c,-1)%c\n",
    "                py = np.array([y1+0.5]*len(px))\n",
    "                \n",
    "        else:\n",
    "            if x1<x2:\n",
    "                v1x = np.arange(x1,x2+1)\n",
    "                v1y = [y1]*len(v1x)\n",
    "                v2y = np.arange(y1+1,y2+1)\n",
    "                v2x = [max(x1,x2)]*len(v2y)\n",
    "            elif x1==x2:\n",
    "                v2y = np.arange(y1,y2+1)\n",
    "                v2x = [max(x1,x2)]*len(v2y)\n",
    "            else:\n",
    "                v1x = np.arange(x2,x1+1)\n",
    "                v1y = [y2]*len(v1x)\n",
    "                v2y = np.arange(y2-1,y1-1,-1)\n",
    "                v2x = [max(x1,x2)]*len(v2y)\n",
    "                \n",
    "            if dy ==0:\n",
    "                vx = np.array(v1x)\n",
    "                vy = np.array(v1y)\n",
    "            elif dx == 0:\n",
    "                vx = np.array(v2x)\n",
    "                vy = np.array(v2y)\n",
    "            else:\n",
    "                vx = np.concatenate((v1x,v2x))\n",
    "                vy = np.concatenate((v1y,v2y))\n",
    "\n",
    "            px = (vx[0:len(vx)-1]+vx[1:])/2 + 0.5\n",
    "            py = (vy[0:len(vy)-1]+vy[1:])/2 + 0.5\n",
    "\n",
    "\n",
    "#     if qubit == \"qubits\":\n",
    "    \n",
    "    return vx, vy, px, py\n",
    "\n",
    "l = 2 # number of sublattice points (2 for toric code) or primal/dual\n",
    "r = 5 # number of columns\n",
    "c = 5 # number of rows\n",
    "\n",
    "# plt.figure(1)\n",
    "# for row in range(r):\n",
    "#     plt.plot([row,row],[0,c],'k')\n",
    "# for col in range(c):\n",
    "#     plt.plot([0,r],[col,col],'k')\n",
    "\n",
    "\n",
    "Λ = np.kron([[0,1],[1,0]],np.eye(l*r*c))\n",
    "# star stabilzers\n",
    "Sx = np.zeros((r*c,l*r*c))\n",
    "for row in range(r):\n",
    "    for col in range(c):\n",
    "        Sx[row*c + col, 2*(row*c+col)+1] = 1\n",
    "        Sx[row*c + col, 2*(((row+1)%r)*c+((col-1)%c))] = 1\n",
    "        Sx[row*c + col, 2*(((row+1)%r)*c+col)] = 1\n",
    "        Sx[row*c + col, 2*(((row+1)%r)*c+col)+1] = 1\n",
    "Sx = np.concatenate((Sx,np.zeros((r*c,l*r*c))),axis=1)\n",
    "\n",
    "\n",
    "# plaquette stabilzers\n",
    "Sz = np.zeros((r*c,l*r*c))\n",
    "for row in range(r):\n",
    "    for col in range(c):\n",
    "        Sz[row*c + col, 2*(row*c+col)] = 1\n",
    "        Sz[row*c + col, 2*(row*c+col)+1] = 1\n",
    "        Sz[row*c + col, 2*(row*c+((col+1)%c))+1] = 1\n",
    "        Sz[row*c + col, 2*(((row+1)%r)*c+col)] = 1\n",
    "Sz = np.concatenate((np.zeros((r*c,l*r*c)),Sz),axis=1)\n",
    "# print(Sz.T)\n",
    "\n",
    "# z flip error\n",
    "pz = 0.1 # error probability\n",
    "zflip = np.random.rand(l,r,c) \n",
    "zflip_inds = np.argwhere(zflip < pz)\n",
    "# print(zflip)\n",
    "# print(zflip_inds)\n",
    "error_z = np.zeros(l*r*c)\n",
    "for i in range(len(zflip_inds)):\n",
    "    error_z[zflip_inds[i][0]+2*(zflip_inds[i][1]*c+zflip_inds[i][2])] = 1\n",
    "# error_tot = np.reshape(np.concatenate((np.zeros(l*r*c),error_z)),[1,2*l*r*c])\n",
    "# plt.figure(1)\n",
    "# for i in range(len(zflip_inds)):\n",
    "#     if zflip_inds[i][0] == 0 :\n",
    "#         ry = zflip_inds[i][1] \n",
    "#         rx = zflip_inds[i][2] + 0.5 +0.1  \n",
    "#     else:\n",
    "#         ry = zflip_inds[i][1] + 0.5 +0.1\n",
    "#         rx = zflip_inds[i][2]    \n",
    "\n",
    "#     plt.text(rx,ry,\"Z\",color=\"b\")\n",
    "\n",
    "\n",
    "# plt.grid()\n",
    "\n",
    "# x flip error\n",
    "px = 0.1 # error probability\n",
    "xflip = np.random.rand(l,r,c) \n",
    "xflip_inds = np.argwhere(xflip < px)\n",
    "# print(xflip_inds)\n",
    "error_x = np.zeros(l*r*c)\n",
    "for i in range(len(xflip_inds)):\n",
    "    error_x[xflip_inds[i][0]+2*(xflip_inds[i][1]*c+xflip_inds[i][2])] = 1\n",
    "\n",
    "# plt.figure(1)\n",
    "# for i in range(len(xflip_inds)):\n",
    "#     if xflip_inds[i][0] == 0 :\n",
    "#         ry = xflip_inds[i][1] \n",
    "#         rx = xflip_inds[i][2] + 0.5   \n",
    "#     else:\n",
    "#         ry = xflip_inds[i][1] + 0.5\n",
    "#         rx = xflip_inds[i][2]    \n",
    "\n",
    "#     plt.text(rx,ry,\"X\",color=\"r\")\n",
    "# # plt.gca().invert_yaxis()\n",
    "\n",
    "error_tot = np.reshape(np.concatenate((error_x,error_z)),[1,2*l*r*c])\n",
    "\n",
    "# find syndrome\n",
    "syndrome_x = np.dot(error_tot,np.dot(Λ,Sx.T)) % 2\n",
    "synd_x_inds = np.argwhere(syndrome_x > 0)\n",
    "# print(synd_x_inds)\n",
    "# plt.figure(1)\n",
    "# for i in range(len(synd_x_inds)):\n",
    "#     plt.text((synd_x_inds[i][1]%c)-0.05,int(synd_x_inds[i][1]/c)+1.05,'X')\n",
    "    \n",
    "syndrome_z = np.dot(error_tot,np.dot(Λ,Sz.T)) % 2\n",
    "synd_z_inds = np.argwhere(syndrome_z > 0)\n",
    "# print(synd_z_inds)\n",
    "# synd_z_inds = np.array([[0,3],[0,4],[0,6]])\n",
    "# print(synd_z_inds)\n",
    "# plt.figure(1)\n",
    "# # if len(synd_z_inds)>1:\n",
    "# for i in range(len(synd_z_inds)):\n",
    "#     plt.text((synd_z_inds[i][1]%c)+0.5,int(synd_z_inds[i][1]/c)+0.45,'Z')\n",
    "\n",
    "z_graph = []\n",
    "z_graph_inds = []\n",
    "z_graph_paths = {}\n",
    "for i1 in range(len(synd_z_inds[:,1])):\n",
    "    for i2 in range(i1+1,len(synd_z_inds[:,1])):\n",
    "        ind1 = synd_z_inds[i1,1]\n",
    "        ind2 = synd_z_inds[i2,1]        \n",
    "        z_graph_inds.append([ind1,ind2])\n",
    "        y1 = int(ind1/c)\n",
    "        y2 = int(ind2/c)\n",
    "        dy = np.abs(y1-y2)\n",
    "        x1 = ind1%c\n",
    "        x2 = ind2%c\n",
    "        dx = np.abs(x1-x2)\n",
    "#         if dy > r-dy:\n",
    "#             if dx > c-dx:\n",
    "#                 v1x = (np.arange(0,c-dx+1)+ max(x1,x2))#%c\n",
    "#                 v1y = [min(y1,y2)]*len(v1x)              \n",
    "#                 v2y = (np.arange(1,r-dy+1)+ max(y1,y2))#%r\n",
    "#                 v2x = [min(x1,x2)]*len(v2y)              \n",
    "#             else:\n",
    "#                 v1x = np.arange(min(x1,x2),max(x1,x2)+1)\n",
    "#                 v1y = [min(y1,y2)]*len(v1x)              \n",
    "#                 v2y = (np.arange(1,max(y1,y2)+1)+ r-dy)#%r\n",
    "#                 v2x = [max(x1,x2)]*len(v2y)              \n",
    "#         else:\n",
    "#             if dx > c-dx:\n",
    "#                 v1x = (np.arange(0,c-dx+1)+ max(x1,x2))#%c\n",
    "#                 v1y = [min(y1,y2)]*len(v1x)\n",
    "#                 v2y = np.arange(min(y1,y2)+1,max(y1,y2)+1)\n",
    "#                 v2x = [min(x1,x2)]*len(v2y)              \n",
    "#             else:\n",
    "#                 v1x = np.arange(min(x1,x2),max(x1,x2)+1)\n",
    "#                 v1y = [min(y1,y2)]*len(v1x)\n",
    "#                 v2y = np.arange(min(y1,y2)+1,max(y1,y2)+1)\n",
    "#                 v2x = [max(x1,x2)]*len(v2y)\n",
    "# #         print(np.concatenate((v1x,v2x)))\n",
    "# #         print(np.concatenate((v1y,v2y)))\n",
    "#         z_graph_paths[str((i1,i2))] = [np.concatenate((v1x,v2x)),np.concatenate((v1y,v2y))]\n",
    "                \n",
    "        \n",
    "        dy = min(dy,r-dy)\n",
    "        dx = min(dx,c-dx)\n",
    "#         z_graph2.append((i1,i2,(np.abs(int(ind1/c)-int(ind2/c))%r) + (np.abs(ind1-ind2)%c) ))\n",
    "        z_graph.append((i1,i2,dx+dy ))\n",
    "        vx, vy, px, py = recovery(x1,y1,x2,y2)\n",
    "        print([x1,y1],[x2,y2])\n",
    "        print([px,py])\n",
    "        plt.figure(i1)\n",
    "        plt.plot(vx+0.5,vy+0.5,\"k--\")\n",
    "        plt.plot(px,py,\"ro\")\n",
    "# #     print(vx,vy)\n",
    "# #     print(px,py)\n",
    "#     print(\"-------------\")\n",
    "#     vx, vy = recovery(x1,y1,x2,y2,\"qubits\")\n",
    "\n",
    "    #         if dx ==0 or dy==0:\n",
    "#         print(len(vx),dx+dy)\n",
    "        assert (len(vx)-1) == (dx+dy)\n",
    "        plt.xticks(np.arange(0,c+1.))\n",
    "        plt.yticks(np.arange(0,r+1.))\n",
    "        plt.grid()\n",
    "        plt.show()\n",
    "        print(\"--------------\")\n",
    "\n",
    "\n",
    "\n",
    "#         else:\n",
    "#             assert (len(vx)-2) == (dx+dy)\n",
    "\n",
    "\n",
    "\n",
    "# # print(z_graph_inds)    \n",
    "# # print(z_graph)\n",
    "# mates = blossom5.mwpm_ids(z_graph)\n",
    "# plt.figure(1)\n",
    "# for links in mates:\n",
    "#     l_graph = synd_z_inds[np.array(links),1]\n",
    "# #     print(synd_z_inds[mates[i],1])\n",
    "\n",
    "#     x1 = (l_graph[0]%c) \n",
    "#     y1 = int(l_graph[0]/c)\n",
    "#     x2 = (l_graph[1]%c) \n",
    "#     y2 = int(l_graph[1]/c) \n",
    "#     dx = np.abs(x1-x2)\n",
    "#     dy = np.abs(y1-y2)\n",
    "#     print([x1,y1],[x2,y2])\n",
    "#     vx, vy, px, py = recovery(x1,y1,x2,y2)\n",
    "#     plt.plot(vx+0.5,vy+0.5,\"k--\")\n",
    "# #     print(vx,vy)\n",
    "# #     print(px,py)\n",
    "# #     print(\"-------------\")\n",
    "# #     vx, vy = recovery(x1,y1,x2,y2,\"qubits\")\n",
    "#     plt.plot(px,py,\"ro\")\n",
    "###########\n",
    "#     if dy > r-dy:\n",
    "#         if dx > c-dx:\n",
    "#             v1x = (np.arange(0,c-dx+1)+ max(x1,x2))#%c\n",
    "#             v1y = [min(y1,y2)]*len(v1x)              \n",
    "#             v2y = (np.arange(1,r-dy+1)+ max(y1,y2))#%r\n",
    "#             v2x = [min(x1,x2)]*len(v2y)              \n",
    "# #             plt.plot(np.concatenate((v1x,v2x))+0.5,np.concatenate((v1y,v2y))+0.5,\"k--\")\n",
    "#         else:\n",
    "#             v1x = np.arange(min(x1,x2),max(x1,x2)+1)\n",
    "#             v1y = [min(y1,y2)]*len(v1x)              \n",
    "#             v2y = (np.arange(1,max(y1,y2)+1)+ r-dy)#%r\n",
    "#             v2x = [max(x1,x2)]*len(v2y)              \n",
    "# #             plt.plot(np.concatenate((v1x,v2x))+0.5,np.concatenate((v1y,v2y))+0.5,\"k--\")\n",
    "\n",
    "#     else:\n",
    "#         if dx > c-dx:\n",
    "#             v1x = (np.arange(0,c-dx+1)+ max(x1,x2))#%c\n",
    "#             v1y = [min(y1,y2)]*len(v1x)\n",
    "#             v2y = np.arange(min(y1,y2)+1,max(y1,y2)+1)\n",
    "#             v2x = [min(x1,x2)]*len(v2y)              \n",
    "#             plt.plot(np.concatenate((v1x,v2x))+0.5,np.concatenate((v1y,v2y))+0.5,\"k--\")\n",
    "#         else:\n",
    "#             if x1<x2:\n",
    "#                 v1x = np.arange(x1,x2+1)\n",
    "#                 v1y = [y1]*len(v1x)\n",
    "#             else:\n",
    "#                 v1x = np.arange(x2,x1+1)\n",
    "#                 v1y = [y2]*len(v1x)\n",
    "#             v2y = np.arange(y1,y2+1)\n",
    "#             v2x = [max(x1,x2)]*len(v2y)\n",
    "#             plt.plot(np.concatenate((v1x,v2x))+0.5,np.concatenate((v1y,v2y))+0.5,\"k--\")\n",
    "# #             print([np.concatenate((v1x,v2x)),np.concatenate((v1y,v2y))])\n",
    "# #             if (len(v1x) + len(v2y)) > 1:\n",
    "#             rec_z_inds = []\n",
    "#             if x1<x2:\n",
    "#                 for ix in np.arange(x1+1,x2+1):\n",
    "#                     rec_z_inds.append([1,y1,ix])\n",
    "#             else:\n",
    "#                 for ix in np.arange(x2+1,x1+1):\n",
    "#                     rec_z_inds.append([1,y2,ix])\n",
    "                    \n",
    "#             x0 = max(x1,x2)\n",
    "#             for iy in np.arange(y1+1,y2+1):\n",
    "#                 rec_z_inds.append([0,iy,x0])\n",
    "#             print(rec_z_inds)\n",
    "#             plt.figure(1)\n",
    "#             plot_qubit_error(rec_z_inds,\"O\")\n",
    "\n",
    "#     x1 = (l_graph[0]%c) +0.5\n",
    "#     y1 = int(l_graph[0]/c) +0.5\n",
    "#     x2 = (l_graph[1]%c) +0.5\n",
    "#     y2 = int(l_graph[1]/c) +0.5\n",
    "#     plt.plot([x1,x2],[y1,y1],\"r--\")\n",
    "#     plt.plot([x2,x2],[y1,y2],\"r--\")\n",
    "    \n",
    "#     vec = z_graph_paths[str(links)]\n",
    "#     plt.plot(vec[0]+0.5,vec[1]+0.5,\"k--\")\n",
    "\n",
    "# plt.xticks(np.arange(0,c+1.))\n",
    "# plt.yticks(np.arange(0,r+1.))\n",
    "# plt.grid()\n",
    "# plt.show()\n",
    "\n"
   ]
  },
  {
   "cell_type": "code",
   "execution_count": 247,
   "id": "00b37585",
   "metadata": {},
   "outputs": [
    {
     "data": {
      "image/png": "[encoded data removed]",
      "text/plain": [
       "<Figure size 432x288 with 1 Axes>"
      ]
     },
     "metadata": {
      "needs_background": "light"
     },
     "output_type": "display_data"
    }
   ],
   "source": [
    "z_graph = []\n",
    "z_graph2 = []\n",
    "z_graph_inds = []\n",
    "z_graph_paths = {}\n",
    "for i1 in range(len(synd_z_inds[:,1])):\n",
    "    for i2 in range(i1+1,len(synd_z_inds[:,1])):\n",
    "        ind1 = synd_z_inds[i1,1]\n",
    "        ind2 = synd_z_inds[i2,1]        \n",
    "        z_graph_inds.append([ind1,ind2])\n",
    "        y1 = int(ind1/c)\n",
    "        y2 = int(ind2/c)\n",
    "        dy = np.abs(y1-y2)\n",
    "        x1 = ind1%c\n",
    "        x2 = ind2%c\n",
    "        dx = np.abs(x1-x2)\n",
    "        if dy > r-dy:\n",
    "            if dx > c-dx:\n",
    "                v1x = (np.arange(0,c-dx+1)+ max(x1,x2))#%c\n",
    "                v1y = [min(y1,y2)]*len(v1x)              \n",
    "                v2y = (np.arange(1,r-dy+1)+ max(y1,y2))#%r\n",
    "                v2x = [min(x1,x2)]*len(v2y)              \n",
    "            else:\n",
    "                v1x = np.arange(min(x1,x2),max(x1,x2)+1)\n",
    "                v1y = [min(y1,y2)]*len(v1x)              \n",
    "                v2y = (np.arange(1,max(y1,y2)+1)+ r-dy)#%r\n",
    "                v2x = [max(x1,x2)]*len(v2y)              \n",
    "        else:\n",
    "            if dx > c-dx:\n",
    "                v1x = (np.arange(0,c-dx+1)+ max(x1,x2))#%c\n",
    "                v1y = [min(y1,y2)]*len(v1x)\n",
    "                v2y = np.arange(min(y1,y2)+1,max(y1,y2)+1)\n",
    "                v2x = [min(x1,x2)]*len(v2y)              \n",
    "            else:\n",
    "                v1x = np.arange(min(x1,x2),max(x1,x2)+1)\n",
    "                v1y = [min(y1,y2)]*len(v1x)\n",
    "                v2y = np.arange(min(y1,y2)+1,max(y1,y2)+1)\n",
    "                v2x = [max(x1,x2)]*len(v2y)\n",
    "#         print(np.concatenate((v1x,v2x)))\n",
    "#         print(np.concatenate((v1y,v2y)))\n",
    "        z_graph_paths[str((i1,i2))] = [np.concatenate((v1x,v2x)),np.concatenate((v1y,v2y))]\n",
    "                \n",
    "        \n",
    "        dy = min(dy,r-dy)\n",
    "        dx = min(dx,c-dx)\n",
    "#         z_graph2.append((i1,i2,(np.abs(int(ind1/c)-int(ind2/c))%r) + (np.abs(ind1-ind2)%c) ))\n",
    "        z_graph.append((i1,i2,dx+dy ))\n",
    "\n",
    "        \n",
    "# print(z_graph_inds)    \n",
    "# print(z_graph)\n",
    "# print(z_graph_paths[str((3,5))])\n",
    "# print(z_graph2)\n",
    "# mates = blossom5.mwpm_ids(z_graph)\n",
    "# mates\n",
    "# for links in mates:\n",
    "#     print(synd_z_inds[np.array(links),1])\n",
    "# #     print(synd_z_inds[mates[i],1])\n",
    "\n",
    "mates = blossom5.mwpm_ids(z_graph)\n",
    "rec_z_inds = []\n",
    "plt.figure(1)\n",
    "for links in mates:\n",
    "    l_graph = synd_z_inds[np.array(links),1]\n",
    "#     print(synd_z_inds[mates[i],1])\n",
    "    \n",
    "    x1 = (l_graph[0]%c) \n",
    "    y1 = int(l_graph[0]/c)\n",
    "    x2 = (l_graph[1]%c) \n",
    "    y2 = int(l_graph[1]/c) \n",
    "    dx = np.abs(x1-x2)\n",
    "    dy = np.abs(y1-y2)\n",
    "    if dy > r-dy:\n",
    "        if dx > c-dx:\n",
    "            v1x = (np.arange(0,c-dx+1)+ max(x1,x2))#%c\n",
    "            v1y = [min(y1,y2)]*len(v1x)              \n",
    "            v2y = (np.arange(1,r-dy+1)+ max(y1,y2))#%r\n",
    "            v2x = [min(x1,x2)]*len(v2y)              \n",
    "        else:\n",
    "            v1x = np.arange(min(x1,x2),max(x1,x2)+1)\n",
    "            v1y = [min(y1,y2)]*len(v1x)              \n",
    "            v2y = (np.arange(1,max(y1,y2)+1)+ r-dy)#%r\n",
    "            v2x = [max(x1,x2)]*len(v2y)              \n",
    "    else:\n",
    "        if dx > c-dx:\n",
    "            v1x = (np.arange(0,c-dx+1)+ max(x1,x2))#%c\n",
    "            v1y = [min(y1,y2)]*len(v1x)\n",
    "            v2y = np.arange(min(y1,y2)+1,max(y1,y2)+1)\n",
    "            v2x = [min(x1,x2)]*len(v2y)              \n",
    "        else:\n",
    "            v1x = np.arange(min(x1,x2)+1,max(x1,x2)+1)\n",
    "            y0 = min(y1,y2)+1\n",
    "            for ix in np.arange(min(x1,x2),max(x1,x2)+1):\n",
    "                rec_z_inds.append([1,y0,ix])\n",
    "            x0 = max(x1,x2)+1\n",
    "            for iy in np.arange(min(y1,y2)+1,max(y1,y2)+1):\n",
    "                rec_z_inds.append([0,iy,x0])\n",
    "    \n",
    "    \n",
    "    x1 = (l_graph[0]%c) +0.5\n",
    "    y1 = int(l_graph[0]/c) +0.5\n",
    "    x2 = (l_graph[1]%c) +0.5\n",
    "    y2 = int(l_graph[1]/c) +0.5\n",
    "    plt.plot([x1,x2],[y1,y1],\"r--\")\n",
    "    plt.plot([x2,x2],[y1,y2],\"r--\")\n",
    "    vec = z_graph_paths[str(links)]\n",
    "    plt.plot(vec[0]+0.5,vec[1]+0.5,\"k--\")\n",
    "    \n",
    "    "
   ]
  },
  {
   "cell_type": "code",
   "execution_count": 397,
   "id": "2fce9029",
   "metadata": {},
   "outputs": [
    {
     "name": "stdout",
     "output_type": "stream",
     "text": [
      "{(0, 1), (2, 3)}\n"
     ]
    }
   ],
   "source": [
    "edges = [(1, 2, 10), (1, 3, 25), (0, 2, 56), (0, 1, 15), (2, 3, 6)]\n",
    "mates = blossom5.mwpm_ids(edges)\n",
    "print(mates)"
   ]
  },
  {
   "cell_type": "code",
   "execution_count": 158,
   "id": "ecdfe7a3",
   "metadata": {},
   "outputs": [
    {
     "name": "stdout",
     "output_type": "stream",
     "text": [
      "[0] [1]\n",
      "1 3\n"
     ]
    },
    {
     "data": {
      "image/png": "[encoded data removed]",
      "text/plain": [
       "<Figure size 432x288 with 1 Axes>"
      ]
     },
     "metadata": {
      "needs_background": "light"
     },
     "output_type": "display_data"
    }
   ],
   "source": [
    "r = 4\n",
    "c = 4\n",
    "y1 = 1\n",
    "x1 = 0\n",
    "y2 = 1\n",
    "x2 = 3\n",
    "\n",
    "if y2<y1:\n",
    "    x1, x2 = x2, x1\n",
    "    y1, y2 = y2, y1\n",
    "    \n",
    "dx = np.abs(x1-x2)\n",
    "dy = np.abs(y1-y2)\n",
    "dl = min(dx,c-dx)+min(dy,r-dy)\n",
    "if dy > r-dy:\n",
    "    if dx > c-dx:\n",
    "        if x1<x2:\n",
    "            v1x = np.arange(x1,x2-c-1,-1) %c \n",
    "            v1y = [y1]*len(v1x)\n",
    "            v2y = np.arange(y1+1,y2-r-1,-1) %r\n",
    "        else:\n",
    "            v1x = np.arange(x2,x1-c-1,-1) %c \n",
    "            v1y = [y2]*len(v1x)\n",
    "            v2y = np.arange(y2+1,y1+r+1) %r\n",
    "        v2x = [max(x1,x2)]*len(v2y)\n",
    "    else:\n",
    "        if x1<x2:\n",
    "            v1x = np.arange(x1,x2+1)\n",
    "            v1y = [y1]*len(v1x)\n",
    "            v2y = np.arange(y1+1,y2-r-1,-1) %r\n",
    "        else:\n",
    "            v1x = np.arange(x2,x1+1)\n",
    "            v1y = [y2]*len(v1x)\n",
    "            v2y = np.arange(y2+1,y1+r+1) %r\n",
    "        v2x = [max(x1,x2)]*len(v2y)\n",
    "else:\n",
    "    if dx > c-dx:\n",
    "        v1x = np.arange(min(x1,x2)+1,max(x1,x2)-c-1,-1) %c\n",
    "        v1y = [y2]*len(v1x)\n",
    "        v2y = np.arange(y1,y2+1)\n",
    "        v2x = [x1]*len(v2y)\n",
    "    else:\n",
    "        if x1<x2:\n",
    "            v1x = np.arange(x1,x2+1)\n",
    "            v1y = [y1]*len(v1x)\n",
    "        else:\n",
    "            v1x = np.arange(x2,x1+1)\n",
    "            v1y = [y2]*len(v1x)\n",
    "        v2y = np.arange(y1+1,y2+1)\n",
    "        v2x = [max(x1,x2)]*len(v2y)\n",
    "        \n",
    "vx = np.concatenate((v1x,v2x))\n",
    "vy = np.concatenate((v1y,v2y))\n",
    "print(v2x,v2y)\n",
    "\n",
    "plt.plot(vx,vy,\"o\")\n",
    "print(dl,len(vx)-1)\n",
    "# assert (len(vx)-2) == dl\n",
    "plt.arrow(x1,y1,x2-x1,y2-y1,head_width=0.05)\n",
    "plt.xticks(np.arange(0,c+1.))\n",
    "plt.yticks(np.arange(0,r+1.))\n",
    "plt.grid()\n",
    "plt.show()"
   ]
  },
  {
   "cell_type": "code",
   "execution_count": 41,
   "id": "a8a034d5",
   "metadata": {},
   "outputs": [
    {
     "data": {
      "text/plain": [
       "-1"
      ]
     },
     "execution_count": 41,
     "metadata": {},
     "output_type": "execute_result"
    }
   ],
   "source": [
    "np.arange(2,0,)"
   ]
  },
  {
   "cell_type": "code",
   "execution_count": null,
   "id": "3cdff669",
   "metadata": {},
   "outputs": [],
   "source": [
    "import math\n",
    "\n",
    "import pytest\n",
    "\n",
    "from qecsim.graphtools import blossom5\n",
    "\n",
    "\n",
    "def test_blossom5_available():\n",
    "    available = blossom5.available()\n",
    "    print(available)\n",
    "    assert isinstance(available, bool)\n",
    "\n",
    "\n",
    "@pytest.mark.clib\n",
    "def test_blossom5_infty():\n",
    "    infty = blossom5.infty()\n",
    "    print(infty)\n",
    "    assert isinstance(infty, int)\n",
    "    assert infty > 0\n",
    "\n",
    "\n",
    "@pytest.mark.clib\n",
    "def test_blossom5_mwpm_ids():\n",
    "    edges = [(1, 2, 10), (1, 3, 25), (0, 2, 56), (0, 1, 15), (2, 3, 6)]\n",
    "    mates = blossom5.mwpm_ids(edges)\n",
    "    expected = {(0, 1), (2, 3)}\n",
    "    assert mates == expected\n",
    "\n",
    "\n",
    "@pytest.mark.clib\n",
    "def test_blossom5_mwpm_ids_no_edges():\n",
    "    edges = []\n",
    "    mates = blossom5.mwpm_ids(edges)\n",
    "    expected = set()\n",
    "    assert mates == expected\n",
    "\n",
    "\n",
    "@pytest.mark.clib\n",
    "def test_blossom5_mwpm_ids_negative_weights():\n",
    "    edges = [(1, 2, -90), (1, 3, -75), (0, 2, -44), (0, 1, -85), (2, 3, -94)]\n",
    "    mates = blossom5.mwpm_ids(edges)\n",
    "    expected = {(0, 1), (2, 3)}\n",
    "    assert mates == expected\n",
    "\n",
    "\n",
    "@pytest.mark.clib\n",
    "def test_blossom5_mwpm():\n",
    "    edges = [('b', 'c', 10), ('b', 'd', 25), ('a', 'c', 56), ('a', 'b', 15), ('c', 'd', 6)]\n",
    "    mates = blossom5.mwpm(edges)\n",
    "    sorted_mates = {tuple(sorted(match)) for match in mates}\n",
    "    expected = {('a', 'b'), ('c', 'd')}\n",
    "    assert sorted_mates == expected\n",
    "\n",
    "\n",
    "@pytest.mark.clib\n",
    "def test_blossom5_weight_to_int_fn():\n",
    "    weights = [0, 0, 0, 0, 4.394449154672438, 8.788898309344876, 10.986122886681095, 4.394449154672438,\n",
    "               6.591673732008657, 2.197224577336219, 0, 0, 2.197224577336219, 6.591673732008657, 4.394449154672438, 0,\n",
    "               4.394449154672438, 6.591673732008657, 2.197224577336219, 0, 0, 0, 0, 0, 2.197224577336219,\n",
    "               6.591673732008657, 10.986122886681095, 4.394449154672438, 8.788898309344876, 4.394449154672438,\n",
    "               2.197224577336219, 6.591673732008657, 10.986122886681095, 4.394449154672438, 8.788898309344876,\n",
    "               4.394449154672438, 4.394449154672438, 6.591673732008657, 2.197224577336219, 2.197224577336219,\n",
    "               6.591673732008657, 4.394449154672438, 4.394449154672438, 8.788898309344876, 10.986122886681095,\n",
    "               4.394449154672438, 6.591673732008657, 2.197224577336219]\n",
    "    _weight_to_int = blossom5.weight_to_int_fn(weights)\n",
    "    scaled_int_weights = [_weight_to_int(wt) for wt in weights]\n",
    "    assert max(scaled_int_weights) < blossom5.infty() / 10, (\n",
    "        'Max absolute weight is not smaller than infty by 1 order of magnitude')\n",
    "    ratio_min_to_max_weight = min(wt for wt in weights if wt != 0) / max(weights)\n",
    "    ratio_min_to_max_scaled_weight = min(wt for wt in scaled_int_weights if wt != 0) / max(scaled_int_weights)\n",
    "    assert math.isclose(ratio_min_to_max_weight, ratio_min_to_max_scaled_weight, rel_tol=1e-7), (\n",
    "        'Ratio of min / max for non-zero weights and scaled weights is not close')\n",
    "\n",
    "\n",
    "@pytest.mark.clib\n",
    "def test_blossom5_weight_to_int_fn_warning_zero(caplog):\n",
    "    weights = [0, 2, blossom5.infty()]\n",
    "    _weight_to_int = blossom5.weight_to_int_fn(weights)\n",
    "    scaled_int_weights = [_weight_to_int(wt) for wt in weights]\n",
    "    print(scaled_int_weights)\n",
    "    print(caplog.text)\n",
    "    assert 'SCALED MINIMUM ABSOLUTE NON-ZERO WEIGHT IS ZERO' in caplog.text\n",
    "\n",
    "\n",
    "@pytest.mark.clib\n",
    "def test_blossom5_weight_to_int_fn_warning_less_than_3sf(caplog):\n",
    "    weights = [0, 294, blossom5.infty()]\n",
    "    _weight_to_int = blossom5.weight_to_int_fn(weights)\n",
    "    scaled_int_weights = [_weight_to_int(wt) for wt in weights]\n",
    "    print(scaled_int_weights)\n",
    "    print(caplog.text)\n",
    "    assert 'SCALED MINIMUM ABSOLUTE NON-ZERO WEIGHT LESS THAN 3 S.F.' in caplog.text"
   ]
  },
  {
   "cell_type": "code",
   "execution_count": null,
   "id": "1501a2fd",
   "metadata": {},
   "outputs": [],
   "source": [
    "blossom5.available()\n",
    "# test_blossom5_mwpm_ids()"
   ]
  },
  {
   "cell_type": "code",
   "execution_count": null,
   "id": "9c2c10b2",
   "metadata": {},
   "outputs": [],
   "source": []
  }
 ],
 "metadata": {
  "kernelspec": {
   "display_name": "Python 3",
   "language": "python",
   "name": "python3"
  },
  "language_info": {
   "codemirror_mode": {
    "name": "ipython",
    "version": 3
   },
   "file_extension": ".py",
   "mimetype": "text/x-python",
   "name": "python",
   "nbconvert_exporter": "python",
   "pygments_lexer": "ipython3",
   "version": "3.8.8"
  }
 },
 "nbformat": 4,
 "nbformat_minor": 5
}
