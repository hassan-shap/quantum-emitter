{
 "cells": [
  {
   "cell_type": "code",
   "execution_count": 18,
   "id": "0f2e1d3b-1985-4b3c-86f9-25509d8158f4",
   "metadata": {},
   "outputs": [],
   "source": [
    "import numpy as np\n",
    "import matplotlib.pyplot as plt"
   ]
  },
  {
   "cell_type": "code",
   "execution_count": 2,
   "id": "bf411d92-270b-42d9-a6ec-1b7cd4a20517",
   "metadata": {},
   "outputs": [
    {
     "data": {
      "text/plain": [
       "(array([-1.,  2.]),\n",
       " array([[-0.70710678, -0.4472136 ],\n",
       "        [ 0.70710678, -0.89442719]]))"
      ]
     },
     "execution_count": 2,
     "metadata": {},
     "output_type": "execute_result"
    }
   ],
   "source": [
    "τ = np.array([[0,1],[2,1]])\n",
    "np.linalg.eig(τ)"
   ]
  },
  {
   "cell_type": "code",
   "execution_count": 7,
   "id": "02d7ce90-94ba-4806-a134-4a37b837e597",
   "metadata": {},
   "outputs": [
    {
     "data": {
      "text/plain": [
       "array([2, 4])"
      ]
     },
     "execution_count": 7,
     "metadata": {},
     "output_type": "execute_result"
    }
   ],
   "source": [
    "τ @ (np.array([1,2]).T)"
   ]
  },
  {
   "cell_type": "code",
   "execution_count": 36,
   "id": "09dae28a-45b4-47f9-95b1-16b4378532bf",
   "metadata": {},
   "outputs": [
    {
     "data": {
      "image/png": "[encoded data removed]",
      "text/plain": [
       "<Figure size 1440x144 with 1 Axes>"
      ]
     },
     "metadata": {
      "needs_background": "light"
     },
     "output_type": "display_data"
    }
   ],
   "source": [
    "N = 5\n",
    "n = np.arange(0,N)\n",
    "τ1 = (2**(n+1)+(-1)**(n))/3\n",
    "τ2 = (2**(n+2)-(-1)**(n))/3\n",
    "Δ = 2**N + 1\n",
    "t_init = np.zeros(N)\n",
    "t_init =n*Δ + (4*(2**n-1)-(-1)**n+1)/6\n",
    "# print(τ1,t_init)\n",
    "plt.figure(figsize = (20,2))\n",
    "for i in range(N):\n",
    "    q_num = np.arange(0,2**(N-i-1))\n",
    "    early = t_init[i]+ q_num*(τ1[i]+τ2[i])\n",
    "    late = t_init[i] + q_num*(τ1[i]+τ2[i])+τ1[i]\n",
    "    plt.plot(early,early*0+i,\"o\",color=\"C%d\" % (i))\n",
    "    plt.plot(late,late*0+i,\"v\",color=\"C%d\" % (i))\n",
    "    plt.plot(Δ+early,early*0+i+1,\"o\",color=\"C%d\" % (i))\n",
    "    plt.plot(Δ+late,late*0+i+1,\"v\",color=\"C%d\" % (i))\n",
    "\n",
    "# plt.xlim([1000,1200])\n",
    "plt.ylim([-0.5,N-0.5])\n",
    "plt.show()\n"
   ]
  },
  {
   "cell_type": "code",
   "execution_count": null,
   "id": "a5611594-1cad-4510-9359-ed402de44054",
   "metadata": {},
   "outputs": [],
   "source": []
  }
 ],
 "metadata": {
  "kernelspec": {
   "display_name": "Python 3 (ipykernel)",
   "language": "python",
   "name": "python3"
  },
  "language_info": {
   "codemirror_mode": {
    "name": "ipython",
    "version": 3
   },
   "file_extension": ".py",
   "mimetype": "text/x-python",
   "name": "python",
   "nbconvert_exporter": "python",
   "pygments_lexer": "ipython3",
   "version": "3.9.12"
  }
 },
 "nbformat": 4,
 "nbformat_minor": 5
}
